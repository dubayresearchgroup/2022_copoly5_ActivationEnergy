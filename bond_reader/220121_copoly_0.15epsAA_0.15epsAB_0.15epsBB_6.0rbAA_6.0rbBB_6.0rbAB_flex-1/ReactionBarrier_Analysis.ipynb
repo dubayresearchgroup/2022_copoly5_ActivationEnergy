{
 "cells": [
  {
   "cell_type": "markdown",
   "metadata": {},
   "source": [
    "## Imports and Dependencies"
   ]
  },
  {
   "cell_type": "code",
   "execution_count": 1,
   "metadata": {},
   "outputs": [],
   "source": [
    "import numpy as np\n",
    "import matplotlib\n",
    "import matplotlib.pyplot as plt\n",
    "import chainanalysis\n",
    "import pickle"
   ]
  },
  {
   "cell_type": "markdown",
   "metadata": {},
   "source": [
    "## Chain Analysis"
   ]
  },
  {
   "cell_type": "code",
   "execution_count": 2,
   "metadata": {},
   "outputs": [],
   "source": [
    "simname = './220121_copoly_0.15epsAA_0.15epsAB_0.15epsBB_6.0rbAA_6.0rbBB_6.0rbAB_flex-1'\n",
    "reader = chainanalysis.BondReader(simname)\n",
    "reader.calc()"
   ]
  },
  {
   "cell_type": "markdown",
   "metadata": {},
   "source": [
    "For remembering dictionary keys for BondReader methods:"
   ]
  },
  {
   "cell_type": "code",
   "execution_count": 3,
   "metadata": {},
   "outputs": [
    {
     "name": "stdout",
     "output_type": "stream",
     "text": [
      "dict_keys(['name', 'inputdata', 'size', 'Nmono', 'epsAA', 'epsAB', 'epsBB', 'damp', 'angleA', 'angleB', 'angleKA', 'angleKB', 'shiftA', 'shiftB', 'Temp', 'epshard', 'activationAA', 'activationBB', 'activationAB', 'seed', 'numA', 'numB'])\n",
      "50\n",
      "dict_keys(['pAA', 'pBB', 'pAABB', 'pAB', 'PDI', 'extent', 'NumAve', 'MassAve', 'step', 'name'])\n",
      "0\n",
      "dict_keys(['pAA', 'pBB', 'pAABB', 'pAB', 'PDI', 'seq', 'numseq', 'chainends', 'monoAcount', 'monoBcount', 'extent', 'NumAve', 'MassAve', 'chaindist', 'blockAdist', 'blockBdist', 'blockAerror', 'blockBerror', 'step', 'name'])\n"
     ]
    }
   ],
   "source": [
    "print(reader.params.keys())\n",
    "print(reader.params['size'])\n",
    "print(reader.trajs.keys())\n",
    "\n",
    "#note that frames[n] where n*100,000 is the timestep\n",
    "print(reader.frames[0]['step'])\n",
    "print(reader.frames[0].keys())\n",
    "#print(reader.frames[-1]['seq'])"
   ]
  },
  {
   "cell_type": "markdown",
   "metadata": {},
   "source": [
    "## Manipulating Object Frames"
   ]
  },
  {
   "cell_type": "code",
   "execution_count": 4,
   "metadata": {},
   "outputs": [],
   "source": [
    "probs = [reader.trajs['pAA'],reader.trajs['pBB'],reader.trajs['pAABB'],reader.trajs['pAB']]\n",
    "PDI = np.array(reader.trajs['PDI'])\n",
    "p = np.array(reader.trajs['extent'])\n",
    "tstep = np.array(reader.trajs['step'])\n",
    "ChainDist = reader.frames[-1]['chaindist']\n",
    "BlockADist = reader.frames[-1]['blockAdist']\n",
    "BlockBDist = reader.frames[-1]['blockBdist']\n",
    "BlockAErr = reader.frames[-1]['blockAerror']\n",
    "BlockBErr = reader.frames[-1]['blockBerror']\n",
    "\n",
    "\n",
    "cnt=0\n",
    "n = np.linspace(0,50,51)\n",
    "TotalBlockXw = np.zeros((len(reader.trajs['PDI'])))\n",
    "TotalBlockXn = np.zeros((len(reader.trajs['PDI'])))\n",
    "Xn = np.zeros((len(reader.trajs['PDI'])))\n",
    "BlockXw = np.zeros((len(reader.trajs['PDI'])))\n",
    "BlockXn = np.zeros((len(reader.trajs['PDI'])))\n",
    "BlockAXw = np.zeros((len(reader.trajs['PDI'])))\n",
    "BlockAXn = np.zeros((len(reader.trajs['PDI'])))\n",
    "BlockBXw = np.zeros((len(reader.trajs['PDI'])))\n",
    "BlockBXn = np.zeros((len(reader.trajs['PDI'])))\n",
    "for frame in reader.frames[:]:\n",
    "    BlockTotal = np.zeros((len(n)))\n",
    "    for id, val in enumerate(frame['blockAdist'][0]):\n",
    "        BlockTotal[val] += frame['blockAdist'][1][id]\n",
    "    for id, val in enumerate(frame['blockBdist'][0]):\n",
    "        BlockTotal[val] += frame['blockBdist'][1][id]\n",
    "    BlockAXw[cnt] = np.sum(np.array(frame['blockAdist'][0])*np.array(frame['blockAdist'][0])*np.array(frame['blockAdist'][1]))/np.sum(np.array(frame['blockAdist'][0])*np.array(frame['blockAdist'][1]))\n",
    "    BlockAXn[cnt] = np.sum(np.array(frame['blockAdist'][0])*np.array(frame['blockAdist'][1]))/np.sum(np.array(frame['blockAdist'][1]))\n",
    "    BlockBXw[cnt] = np.sum(np.array(frame['blockBdist'][0])*np.array(frame['blockBdist'][0])*np.array(frame['blockBdist'][1]))/np.sum(np.array(frame['blockBdist'][0])*np.array(frame['blockBdist'][1]))\n",
    "    BlockBXn[cnt] = np.sum(np.array(frame['blockBdist'][0])*np.array(frame['blockBdist'][1]))/np.sum(np.array(frame['blockBdist'][1]))\n",
    "    Xn[cnt] = np.sum(np.array(frame['chaindist'][0])*np.array(frame['chaindist'][1]))/np.sum(np.array(frame['chaindist'][1]))\n",
    "    TotalBlockXw[cnt] = np.sum(n*n*BlockTotal)/np.sum(n*BlockTotal) \n",
    "    TotalBlockXn[cnt] = np.sum(n*BlockTotal)/np.sum(BlockTotal)\n",
    "    cnt+=1\n",
    "TotalBlock_PDI = np.array(TotalBlockXw/TotalBlockXn)        \n",
    "BlockA_PDI = np.array(BlockAXw/BlockAXn)\n",
    "BlockB_PDI = np.array(BlockBXw/BlockBXn)"
   ]
  },
  {
   "cell_type": "code",
   "execution_count": 5,
   "metadata": {},
   "outputs": [],
   "source": [
    "# print(p[-1])\n",
    "# #print(Carothers)\n",
    "# print(len(p))\n",
    "# print(len(tstep))\n",
    "# print(TotalBlock_PDI)"
   ]
  },
  {
   "cell_type": "markdown",
   "metadata": {},
   "source": [
    "## Reader Checkpoint"
   ]
  },
  {
   "cell_type": "code",
   "execution_count": 6,
   "metadata": {},
   "outputs": [],
   "source": [
    "with open('./jar/'+simname+'_probs.pickle','wb') as f1:\n",
    "    pickle.dump(probs,f1)\n",
    "    \n",
    "with open('./jar/'+simname+'_extent.pickle','wb') as f1:\n",
    "    pickle.dump(p,f1)\n",
    "    \n",
    "with open('./jar/'+simname+'_tstep.pickle','wb') as f1:\n",
    "    pickle.dump(tstep,f1)\n",
    "    \n",
    "with open('./jar/'+simname+'_PDI.pickle','wb') as f1:\n",
    "    pickle.dump(PDI,f1)\n",
    "    \n",
    "with open('./jar/'+simname+'_DOP.pickle','wb') as f1:\n",
    "    pickle.dump(Xn,f1)\n",
    "\n",
    "with open('./jar/'+simname+'_BlockPDI.pickle','wb') as f1:\n",
    "    pickle.dump(TotalBlock_PDI,f1)\n",
    "\n",
    "with open('./jar/'+simname+'_BlockAPDI.pickle','wb') as f1:\n",
    "    pickle.dump(BlockA_PDI,f1)\n",
    "    \n",
    "with open('./jar/'+simname+'_BlockBPDI.pickle','wb') as f1:\n",
    "    pickle.dump(BlockB_PDI,f1)\n",
    "    \n",
    "with open('./jar/'+simname+'_BlockA.pickle','wb') as f1:\n",
    "    pickle.dump(BlockADist,f1)\n",
    "    \n",
    "with open('./jar/'+simname+'_BlockB.pickle','wb') as f1:\n",
    "    pickle.dump(BlockBDist,f1)\n",
    "    \n",
    "with open('./jar/'+simname+'_ChainDist.pickle','wb') as f1:\n",
    "    pickle.dump(ChainDist,f1)"
   ]
  },
  {
   "cell_type": "markdown",
   "metadata": {},
   "source": [
    "## Restart From Checkpoint"
   ]
  },
  {
   "cell_type": "code",
   "execution_count": 7,
   "metadata": {},
   "outputs": [],
   "source": [
    "with open('./jar/'+simname+'_probs.pickle','rb') as f1:\n",
    "    probs = pickle.load(f1)\n",
    "\n",
    "with open('./jar/'+simname+'_extent.pickle','rb') as f1:\n",
    "    p = pickle.load(f1)\n",
    "\n",
    "with open('./jar/'+simname+'_tstep.pickle','rb') as f1:\n",
    "    tstep = pickle.load(f1)\n",
    "    \n",
    "with open('./jar/'+simname+'_PDI.pickle','rb') as f1:\n",
    "    PDI = pickle.load(f1)\n",
    "    \n",
    "with open('./jar/'+simname+'_DOP.pickle','rb') as f1:\n",
    "    Xn = pickle.load(f1)\n",
    "    \n",
    "with open('./jar/'+simname+'_BlockPDI.pickle','rb') as f1:\n",
    "    TotalBlock_PDI = pickle.load(f1)\n",
    "    \n",
    "with open('./jar/'+simname+'_BlockAPDI.pickle','rb') as f1:\n",
    "    BlockA_PDI = pickle.load(f1)\n",
    "    \n",
    "with open('./jar/'+simname+'_BlockBPDI.pickle','rb') as f1:\n",
    "    BlockB_PDI = pickle.load(f1)\n",
    "\n",
    "with open('./jar/'+simname+'_BlockA.pickle','rb') as f1:\n",
    "    BlockADist = pickle.load(f1)\n",
    "\n",
    "with open('./jar/'+simname+'_BlockB.pickle','rb') as f1:\n",
    "    BlockBDist = pickle.load(f1)\n",
    "\n",
    "with open('./jar/'+simname+'_ChainDist.pickle','rb') as f1:\n",
    "    ChainDist = pickle.load(f1)\n",
    "    \n",
    "    "
   ]
  },
  {
   "cell_type": "markdown",
   "metadata": {},
   "source": [
    "## Single Simulation - Test Plotting"
   ]
  },
  {
   "cell_type": "code",
   "execution_count": 8,
   "metadata": {},
   "outputs": [
    {
     "name": "stdout",
     "output_type": "stream",
     "text": [
      "[0.00e+00 2.17e+03 9.15e+02 4.66e+02 1.94e+02 1.00e+02 4.70e+01 1.50e+01\n",
      " 9.00e+00 4.00e+00 2.00e+00 1.00e+00 0.00e+00 0.00e+00 0.00e+00 0.00e+00\n",
      " 0.00e+00 0.00e+00 0.00e+00 0.00e+00 0.00e+00 0.00e+00 0.00e+00 0.00e+00\n",
      " 0.00e+00 0.00e+00 0.00e+00 0.00e+00 0.00e+00 0.00e+00 0.00e+00 0.00e+00\n",
      " 0.00e+00 0.00e+00 0.00e+00 0.00e+00 0.00e+00 0.00e+00 0.00e+00 0.00e+00\n",
      " 0.00e+00]\n"
     ]
    }
   ],
   "source": [
    "#n is the block length\n",
    "n = np.linspace(0,np.amax(np.array((np.amax(BlockADist[0]),np.amax(BlockBDist[0]))))+1,np.amax(np.array((np.amax(BlockADist[0]),np.amax(BlockBDist[0]))))+2)\n",
    "Markovian = (1-(p[-1]*probs[2][-1]))*(p[-1]*probs[2][-1])**(n-1)\n",
    "Carothers = 1/(1-p[-1])\n",
    "DOP = Xn[-1]\n",
    "\n",
    "\n",
    "\n",
    "BlockDist = np.zeros(41)\n",
    "for id, val in enumerate(BlockADist[0]):\n",
    "    BlockDist[val] += BlockADist[1][id]\n",
    "for id, val in enumerate(BlockBDist[0]):\n",
    "    BlockDist[val] += BlockBDist[1][id]\n",
    "print(BlockDist)"
   ]
  },
  {
   "cell_type": "code",
   "execution_count": 9,
   "metadata": {},
   "outputs": [
    {
     "data": {
      "image/png": "[encoded data removed]",
      "text/plain": [
       "<Figure size 1152x504 with 2 Axes>"
      ]
     },
     "metadata": {
      "needs_background": "light"
     },
     "output_type": "display_data"
    }
   ],
   "source": [
    "label = r'Measured $x_n =${:.4f}'.format(Xn[-1]) \n",
    "label += \"\\n\"\n",
    "label += r'Predicted $x_n =${:.4f}'.format(Carothers)\n",
    "x_chain = np.linspace(0,50,51)\n",
    "fig,ax = plt.subplots(1,2,figsize=(16,7))\n",
    "ax[0].plot(x_chain, ((1-p[-1])*p[-1]**(x_chain-1)),'-k')\n",
    "ax[0].bar(ChainDist[0],ChainDist[1]/np.sum(ChainDist[1]),align='center')\n",
    "ax[0].set_xlabel('Chain Length')\n",
    "ax[0].set_ylabel('Probability')\n",
    "ax[0].set_xlim((0,60))\n",
    "ax[0].set_yscale('log')\n",
    "ax[0].set_ylim((9e-4,1))\n",
    "ax[0].text(30,0.2,label)\n",
    "ax[0].legend(('Flory-Schulz','Chain Distribution'))\n",
    "barwidth=0.5;\n",
    "ax[1].bar(np.array(BlockADist[0])-barwidth/4,BlockADist[1]/np.sum(BlockADist[1]),width=barwidth,align='center',color='red')\n",
    "ax[1].bar(np.array(BlockBDist[0])+barwidth/4,BlockBDist[1]/np.sum(BlockBDist[1]),width=barwidth,align='center',color='blue')\n",
    "ax[1].plot(n,Markovian,'-k')\n",
    "ax[1].legend(('Markovian','A Block','B Block'))\n",
    "ax[1].set_yscale('log')\n",
    "ax[1].set_ylim((9e-4,1))\n",
    "ax[1].set_xlim((0,30))\n",
    "ax[1].set_xticks([0,10,20,30])\n",
    "ax[1].set_xlabel('Block Length')\n",
    "ax[1].set_ylabel('Probability');"
   ]
  }
 ],
 "metadata": {
  "kernelspec": {
   "display_name": "Python 3 (ipykernel)",
   "language": "python",
   "name": "python3"
  },
  "language_info": {
   "codemirror_mode": {
    "name": "ipython",
    "version": 3
   },
   "file_extension": ".py",
   "mimetype": "text/x-python",
   "name": "python",
   "nbconvert_exporter": "python",
   "pygments_lexer": "ipython3",
   "version": "3.8.10"
  }
 },
 "nbformat": 4,
 "nbformat_minor": 4
}
